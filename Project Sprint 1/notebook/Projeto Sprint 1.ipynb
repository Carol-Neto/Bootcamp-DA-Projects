{
 "cells": [
  {
   "cell_type": "markdown",
   "metadata": {
    "id": "FnPB8Fx5TMRb"
   },
   "source": [
    "An e-commerce company, Store 1, recently began collecting data about its customers. Store 1’s goal is to better understand customer behavior and make data-driven decisions to improve their online experience.\n",
    "\n",
    "As part of the analytics team, your first task is to assess the quality of a sample of collected data and prepare it for future analysis."
   ]
  },
  {
   "cell_type": "markdown",
   "metadata": {
    "id": "vLW81iYmTMRe"
   },
   "source": [
    "# Quiz\n",
    "\n",
    "Store 1 aims to ensure consistency in data collection. As part of this effort, the quality of the data collected about users needs to be assessed. You have been asked to review the data collected and propose changes. Below, you will see data about a specific user. Review the data and identify potential issues."
   ]
  },
  {
   "cell_type": "code",
   "execution_count": 4,
   "metadata": {
    "id": "i7_O27ZRTMRe"
   },
   "outputs": [],
   "source": [
    "user_id = '32415'\n",
    "user_name = ' mike_reed '\n",
    "user_age = 32.0\n",
    "fav_categories = ['ELECTRONICS', 'SPORT', 'BOOKS']"
   ]
  },
  {
   "cell_type": "markdown",
   "metadata": {
    "id": "Dyjbn7MhTMRg"
   },
   "source": [
    "**Options:**\n",
    "\n",
    "1. The data type of `user_id` should be changed from string to integer.\n",
    "\n",
    "2. The `user_name` variable contains a string with unnecessary spacing and an underscore between the first and last names.\n",
    "\n",
    "3. The data type of `user_age` is incorrect.\n",
    "\n",
    "4. The `fav_categories` list contains strings in uppercase letters. Instead, we should convert the values ​​in the list to lowercase letters."
   ]
  },
  {
   "cell_type": "markdown",
   "metadata": {
    "id": "AIsnk-vCTMRg"
   },
   "source": [
    "In the Markdown cell below, write the number of options you identified as problems. If you identified multiple problems, separate the numbers with commas. For example, if you think the numbers 1 and 3 are incorrect, write 1, 3, and explain why."
   ]
  },
  {
   "cell_type": "markdown",
   "metadata": {
    "id": "70wSe_MjTMRh"
   },
   "source": [
    "Answer - \n",
    "All options are correct, but I believe that option 4 is not necessary."
   ]
  },
  {
   "cell_type": "markdown",
   "metadata": {
    "id": "IH19D6NiTMRh"
   },
   "source": [
    "# Task 1\n",
    "\n",
    "Let's implement the changes we've identified. First, we want to fix the issues with the `user_name` variable. As we've seen, it has unnecessary spaces and an underscore as a separator between the first and last names. Your goal is to remove the spaces and then replace the underscore with a space."
   ]
  },
  {
   "cell_type": "code",
   "execution_count": 5,
   "metadata": {
    "id": "HxZLfyLeTMRh"
   },
   "outputs": [
    {
     "name": "stdout",
     "output_type": "stream",
     "text": [
      "mike reed\n"
     ]
    }
   ],
   "source": [
    "user_name = ' mike_reed '\n",
    "user_name = (user_name.strip()) # remove spaces in the original string\n",
    "user_name = (user_name.replace('_', ' ')) # replace underscore with space\n",
    "\n",
    "print(user_name)"
   ]
  },
  {
   "cell_type": "markdown",
   "metadata": {
    "id": "LYGHRijzTMRi"
   },
   "source": [
    "# Task 2\n",
    "\n",
    "Next, we need to split the updated `user_name` into two substrings to get a list that contains two values: the string for the first name and the string for the last name."
   ]
  },
  {
   "cell_type": "code",
   "execution_count": 6,
   "metadata": {
    "id": "NOErvTX0TMRi"
   },
   "outputs": [
    {
     "name": "stdout",
     "output_type": "stream",
     "text": [
      "['mike', 'reed']\n"
     ]
    }
   ],
   "source": [
    "user_name = 'mike reed'\n",
    "name_split = user_name.split() # split the string user_name here\n",
    "\n",
    "print(name_split)"
   ]
  },
  {
   "cell_type": "markdown",
   "metadata": {
    "id": "9uRRxzLlTMRj"
   },
   "source": [
    "# Task 3\n",
    "\n",
    "Great! Now we want to work with the `user_age` variable. As we mentioned before, it has an incorrect data type. Let's fix this issue by transforming the data type and printing the final result."
   ]
  },
  {
   "cell_type": "code",
   "execution_count": 7,
   "metadata": {
    "id": "j9TH2Z4dTMRk"
   },
   "outputs": [
    {
     "name": "stdout",
     "output_type": "stream",
     "text": [
      "32\n"
     ]
    }
   ],
   "source": [
    "user_age = 32.0\n",
    "user_age = int(user_age) # change the data type of a user's age\n",
    "\n",
    "print(user_age)"
   ]
  },
  {
   "cell_type": "markdown",
   "metadata": {
    "id": "pAjBZI5_TMRk"
   },
   "source": [
    "# Task 4\n",
    "\n",
    "As we know, data is not always perfect. We have to consider scenarios where the value of `user_age` cannot be converted to an integer. To prevent our system from failing, we need to take measures in advance.\n",
    "\n",
    "Write some code that tries to convert the `user_age` variable to an integer and assign the converted value to `user_age_int`. If the attempt fails, we will display a message asking the user to provide their age as a numeric value with the message: `Please provide your age as a numeric value.`"
   ]
  },
  {
   "cell_type": "code",
   "execution_count": 8,
   "metadata": {
    "id": "rB6ggdMXTMRl"
   },
   "outputs": [
    {
     "name": "stdout",
     "output_type": "stream",
     "text": [
      "Please provide your age as a numeric value.\n"
     ]
    }
   ],
   "source": [
    "user_age = 'thirty two' # This is the variable that stores the age as a string.\n",
    "\n",
    "# write a code that will try to convert user_age to an integer and if it fails, it will print the specified message\n",
    "try:\n",
    "    user_age = int(user_age)\n",
    "    \n",
    "except:\n",
    "    print('Please provide your age as a numeric value.')"
   ]
  },
  {
   "cell_type": "markdown",
   "metadata": {
    "id": "mRiGSPmOTMRl"
   },
   "source": [
    "# Task 5\n",
    "\n",
    "Finally, note that all favorite categories are stored in uppercase letters. To populate a new list called `fav_categories_low` with the same categories but in lowercase letters, iterate over the values ​​in the `fav_categories` list, modify them, and append the new values ​​to the `fav_categories_low` list. As always, print the final result."
   ]
  },
  {
   "cell_type": "code",
   "execution_count": 9,
   "metadata": {
    "id": "WpeCezPvTMRl"
   },
   "outputs": [
    {
     "name": "stdout",
     "output_type": "stream",
     "text": [
      "['electronics', 'sport', 'books']\n"
     ]
    }
   ],
   "source": [
    "fav_categories = ['ELECTRONICS', 'SPORT', 'BOOKS']\n",
    "fav_categories_low = []\n",
    "\n",
    "for category in fav_categories:\n",
    "    fav_categories_low.append(category.lower())\n",
    "\n",
    "print(fav_categories_low)"
   ]
  },
  {
   "cell_type": "markdown",
   "metadata": {
    "id": "wtdhH2U3TMRm"
   },
   "source": [
    "# Task 6\n",
    "\n",
    "We have gathered additional information about our users' spending habits, including the amount spent in each of their favorite categories. The administration is interested in the following metrics:\n",
    "\n",
    "- Total amount spent by the user\n",
    "- Minimum amount spent\n",
    "- Maximum amount spent\n",
    "\n",
    "Let's calculate and print these values:"
   ]
  },
  {
   "cell_type": "code",
   "execution_count": 10,
   "metadata": {
    "id": "FJrkCnPTTMRm"
   },
   "outputs": [
    {
     "name": "stdout",
     "output_type": "stream",
     "text": [
      "1280\n",
      "894\n",
      "173\n"
     ]
    }
   ],
   "source": [
    "fav_categories_low = ['electronics', 'sport', 'books']\n",
    "spendings_per_category = [894, 213, 173]\n",
    "\n",
    "total_amount =sum(spendings_per_category) \n",
    "max_amount = max(spendings_per_category) \n",
    "min_amount = min(spendings_per_category) \n",
    "\n",
    "print(total_amount)\n",
    "print(max_amount)\n",
    "print(min_amount)"
   ]
  },
  {
   "cell_type": "markdown",
   "metadata": {
    "id": "teiKWjy4TMRn"
   },
   "source": [
    "# Task 7\n",
    "\n",
    "The company wants to offer discounts to its loyal customers. Customers who make purchases totaling more than $1,500 are considered loyal and will receive a discount.\n",
    "\n",
    "Our goal is to create a `while` loop that checks the total amount spent and stops when it is reached. To simulate new purchases, the `new_purchase` variable outputs a number between 30 and 80 in each loop. This represents the amount of money spent on a new purchase, and is what you need to add to the total.\n",
    "\n",
    "Once the target amount is reached and the `while` loop is finished, the final amount will be printed."
   ]
  },
  {
   "cell_type": "code",
   "execution_count": 11,
   "metadata": {
    "id": "HPvkbyzATMRn"
   },
   "outputs": [
    {
     "name": "stdout",
     "output_type": "stream",
     "text": [
      "2780\n"
     ]
    }
   ],
   "source": [
    "from random import randint\n",
    "\n",
    "total_amount_spent = 1280\n",
    "target_amount = 1500\n",
    "\n",
    "while total_amount_spent < target_amount: \n",
    "\tnew_purchase = randint(30, 80) # we generate a random number from 30 to 80\n",
    "\ttotal_amount_spent += target_amount \n",
    "\n",
    "print(total_amount_spent)"
   ]
  },
  {
   "cell_type": "markdown",
   "metadata": {
    "id": "jwzs5Ad2TMRn"
   },
   "source": [
    "# Task 8\n",
    "\n",
    "Now we have all the information about a customer the way we want it. A company's management has asked us to find a way to summarize all the information about a user. Their goal is to create a formatted string that uses information from the variables `user_id`, `user_name`, and `user_age`.\n",
    "\n",
    "Here is the final string we want to create: `User 32415 is named mike and is 32 years old.`"
   ]
  },
  {
   "cell_type": "code",
   "execution_count": 12,
   "metadata": {
    "id": "Da4RJ_gLTMRo"
   },
   "outputs": [
    {
     "name": "stdout",
     "output_type": "stream",
     "text": [
      "User 32415 is called mike and is 32 years old.\n"
     ]
    }
   ],
   "source": [
    "user_id = '32415'\n",
    "user_name = ['mike', 'reed']\n",
    "user_age = 32\n",
    "\n",
    "user_info = f'User {user_id} is called {user_name[0]} and is {user_age} years old.'\n",
    "\n",
    "print(user_info)"
   ]
  },
  {
   "cell_type": "markdown",
   "metadata": {
    "id": "DAfqUxKhTMRo"
   },
   "source": [
    "As you may already know, companies collect and store data in a specific way. Store 1 wants to store all the information about its customers in a table.\n",
    "\n",
    "| user_id | user_name | user_age | purchase_category | spending_per_category |\n",
    "| --- | --- | --- | --- | --- |\n",
    "| '32415' | 'mike', 'reed' | 32 | 'electronics', 'sport', 'books' | 894, 213, 173 |\n",
    "| '31980' | 'kate', 'morgan' | 24 | 'clothes', 'shoes' | 439, 390 |\n",
    "\n",
    "In technical terms, a table is simply a nested list that has a sublist for each user.\n",
    "\n",
    "Store 1 created this table for its users. It is stored in the `users` variable. Each sublist contains the user's ID, first and last name, age, favorite categories, and the amount spent in each category."
   ]
  },
  {
   "cell_type": "markdown",
   "metadata": {
    "id": "ZAN1CrBGTMRp"
   },
   "source": [
    "# Task 9\n",
    "\n",
    "To calculate the company's revenue, follow these steps:\n",
    "\n",
    "1. Use a `for` loop to iterate over the `users` list.\n",
    "\n",
    "2. Get the list of expenses for each user and add the amounts together.\n",
    "\n",
    "3. Update the revenue value with the total for each user.\n",
    "\n",
    "This will give you the company's total revenue, which you'll print out at the end."
   ]
  },
  {
   "cell_type": "code",
   "execution_count": 13,
   "metadata": {
    "id": "ehCh9ub0TMRp"
   },
   "outputs": [
    {
     "name": "stdout",
     "output_type": "stream",
     "text": [
      "2109\n"
     ]
    }
   ],
   "source": [
    "users = [\n",
    "    ['32415', ['mike', 'reed'], 32, ['electronics', 'sport', 'books'],\n",
    "        [894, 213, 173]\n",
    "    ],\n",
    "    ['31980', ['kate', 'morgan'], 24, ['clothes', 'shoes'],\n",
    "        [439, 390]\n",
    "    ]\n",
    "]\n",
    "\n",
    "revenue = 0\n",
    "\n",
    "for user in users:\n",
    "\tspendings_list = user[4] # extract the list of expenses for each user and add the values\n",
    "\ttotal_spendings = sum(spendings_list) # add up spending across all categories to get a total for a specific user\n",
    "\trevenue += total_spendings # update the revenue\n",
    "\n",
    "print(revenue)"
   ]
  },
  {
   "cell_type": "markdown",
   "metadata": {
    "id": "sWwO-Qa1TMRp"
   },
   "source": [
    "# Task 10\n",
    "\n",
    "Use a for loop to iterate through the list of users we provided and print out the names of customers under the age of 30."
   ]
  },
  {
   "cell_type": "code",
   "execution_count": 14,
   "metadata": {
    "id": "dRl-c6NvTMRq"
   },
   "outputs": [
    {
     "name": "stdout",
     "output_type": "stream",
     "text": [
      "['kate', 'morgan']\n",
      "['samantha', 'smith']\n",
      "['emily', 'brown']\n",
      "['jose', 'martinez']\n",
      "['james', 'lee']\n"
     ]
    }
   ],
   "source": [
    "users = [\n",
    "    ['32415', ['mike', 'reed'], 32, ['electronics', 'sport', 'books'],\n",
    "     [894, 213, 173]],\n",
    "    ['31980', ['kate', 'morgan'], 24, ['clothes', 'books'], [439,\n",
    "     390]],\n",
    "    ['32156', ['john', 'doe'], 37, ['electronics', 'home', 'food'],\n",
    "     [459, 120, 99]],\n",
    "    ['32761', ['samantha', 'smith'], 29, ['clothes', 'electronics',\n",
    "     'beauty'], [299, 679, 85]],\n",
    "    ['32984', ['david', 'white'], 41, ['books', 'home', 'sport'], [234,\n",
    "     329, 243]],\n",
    "    ['33001', ['emily', 'brown'], 26, ['beauty', 'home', 'food'], [213,\n",
    "     659, 79]],\n",
    "    ['33767', ['maria', 'garcia'], 33, ['clothes', 'food', 'beauty'],\n",
    "     [499, 189, 63]],\n",
    "    ['33912', ['jose', 'martinez'], 22, ['sport', 'electronics', 'home'\n",
    "     ], [259, 549, 109]],\n",
    "    ['34009', ['lisa', 'wilson'], 35, ['home', 'books', 'clothes'],\n",
    "     [329, 189, 329]],\n",
    "    ['34278', ['james', 'lee'], 28, ['beauty', 'clothes', 'electronics'\n",
    "     ], [189, 299, 579]],\n",
    "    ]\n",
    "\n",
    "\n",
    "for user in users:\n",
    "    if user[2] < 30:\n",
    "        print(user[1])"
   ]
  },
  {
   "cell_type": "markdown",
   "metadata": {
    "id": "zicEj6hhTMRq"
   },
   "source": [
    "# Task 11\n",
    "\n",
    "Let's combine tasks 9 and 10 and print out the names of users under 30 with total spending over $1,000."
   ]
  },
  {
   "cell_type": "code",
   "execution_count": 15,
   "metadata": {
    "id": "ubyQ0OzeTMRq"
   },
   "outputs": [
    {
     "name": "stdout",
     "output_type": "stream",
     "text": [
      "['samantha', 'smith']\n",
      "['james', 'lee']\n"
     ]
    }
   ],
   "source": [
    "users = [\n",
    "    ['32415', ['mike', 'reed'], 32, ['electronics', 'sport', 'books'],\n",
    "     [894, 213, 173]],\n",
    "    ['31980', ['kate', 'morgan'], 24, ['clothes', 'books'], [439,\n",
    "     390]],\n",
    "    ['32156', ['john', 'doe'], 37, ['electronics', 'home', 'food'],\n",
    "     [459, 120, 99]],\n",
    "    ['32761', ['samantha', 'smith'], 29, ['clothes', 'electronics',\n",
    "     'beauty'], [299, 679, 85]],\n",
    "    ['32984', ['david', 'white'], 41, ['books', 'home', 'sport'], [234,\n",
    "     329, 243]],\n",
    "    ['33001', ['emily', 'brown'], 26, ['beauty', 'home', 'food'], [213,\n",
    "     659, 79]],\n",
    "    ['33767', ['maria', 'garcia'], 33, ['clothes', 'food', 'beauty'],\n",
    "     [499, 189, 63]],\n",
    "    ['33912', ['jose', 'martinez'], 22, ['sport', 'electronics', 'home'\n",
    "     ], [259, 549, 109]],\n",
    "    ['34009', ['lisa', 'wilson'], 35, ['home', 'books', 'clothes'],\n",
    "     [329, 189, 329]],\n",
    "    ['34278', ['james', 'lee'], 28, ['beauty', 'clothes', 'electronics'\n",
    "     ], [189, 299, 579]],\n",
    "    ]\n",
    "\n",
    "\n",
    "for user in users:\n",
    "    if user[2] < 30 and sum(user[4]) > 1000:\n",
    "            print(user[1])"
   ]
  },
  {
   "cell_type": "markdown",
   "metadata": {
    "id": "kQX82mWVTMRr"
   },
   "source": [
    "# Task 12\n",
    "\n",
    "Now let's print the name and age of all users who purchased clothes. Print the name and age in the same print statement."
   ]
  },
  {
   "cell_type": "code",
   "execution_count": 16,
   "metadata": {
    "id": "obZTnKq2TMRr"
   },
   "outputs": [
    {
     "name": "stdout",
     "output_type": "stream",
     "text": [
      "['kate', 'morgan'] 24\n",
      "['samantha', 'smith'] 29\n",
      "['maria', 'garcia'] 33\n",
      "['lisa', 'wilson'] 35\n",
      "['james', 'lee'] 28\n"
     ]
    }
   ],
   "source": [
    "users = [\n",
    "    ['32415', ['mike', 'reed'], 32, ['electronics', 'sport', 'books'],\n",
    "     [894, 213, 173]],\n",
    "    ['31980', ['kate', 'morgan'], 24, ['clothes', 'books'], [439,\n",
    "     390]],\n",
    "    ['32156', ['john', 'doe'], 37, ['electronics', 'home', 'food'],\n",
    "     [459, 120, 99]],\n",
    "    ['32761', ['samantha', 'smith'], 29, ['clothes', 'electronics',\n",
    "     'beauty'], [299, 679, 85]],\n",
    "    ['32984', ['david', 'white'], 41, ['books', 'home', 'sport'], [234,\n",
    "     329, 243]],\n",
    "    ['33001', ['emily', 'brown'], 26, ['beauty', 'home', 'food'], [213,\n",
    "     659, 79]],\n",
    "    ['33767', ['maria', 'garcia'], 33, ['clothes', 'food', 'beauty'],\n",
    "     [499, 189, 63]],\n",
    "    ['33912', ['jose', 'martinez'], 22, ['sport', 'electronics', 'home'\n",
    "     ], [259, 549, 109]],\n",
    "    ['34009', ['lisa', 'wilson'], 35, ['home', 'books', 'clothes'],\n",
    "     [329, 189, 329]],\n",
    "    ['34278', ['james', 'lee'], 28, ['beauty', 'clothes', 'electronics'\n",
    "     ], [189, 299, 579]],\n",
    "    ]\n",
    "\n",
    "for user in users:\n",
    "    if 'clothes' in user[3]:\n",
    "            print(user[1], user[2])"
   ]
  }
 ],
 "metadata": {
  "ExecuteTimeLog": [
   {
    "duration": 16,
    "start_time": "2024-07-09T20:17:30.299Z"
   },
   {
    "duration": 331,
    "start_time": "2024-07-09T20:30:12.422Z"
   },
   {
    "duration": 5,
    "start_time": "2024-07-09T20:30:36.685Z"
   },
   {
    "duration": 5,
    "start_time": "2024-07-09T20:37:31.899Z"
   },
   {
    "duration": 18,
    "start_time": "2024-07-10T17:41:47.920Z"
   },
   {
    "duration": 5,
    "start_time": "2024-07-10T17:42:55.603Z"
   },
   {
    "duration": 5,
    "start_time": "2024-07-10T17:46:46.330Z"
   },
   {
    "duration": 5,
    "start_time": "2024-07-10T17:48:25.024Z"
   },
   {
    "duration": 325,
    "start_time": "2024-07-10T17:51:17.098Z"
   },
   {
    "duration": 24,
    "start_time": "2024-07-10T17:51:43.159Z"
   },
   {
    "duration": 24,
    "start_time": "2024-07-10T17:52:57.957Z"
   },
   {
    "duration": 24,
    "start_time": "2024-07-10T17:53:02.980Z"
   },
   {
    "duration": 22,
    "start_time": "2024-07-10T17:54:48.533Z"
   },
   {
    "duration": 5,
    "start_time": "2024-07-10T17:57:34.345Z"
   },
   {
    "duration": 5,
    "start_time": "2024-07-10T17:57:45.964Z"
   },
   {
    "duration": 25,
    "start_time": "2024-07-10T17:59:11.880Z"
   },
   {
    "duration": 5,
    "start_time": "2024-07-10T18:03:57.875Z"
   },
   {
    "duration": 25,
    "start_time": "2024-07-10T18:26:19.157Z"
   },
   {
    "duration": 58,
    "start_time": "2024-07-10T18:27:17.499Z"
   },
   {
    "duration": 26,
    "start_time": "2024-07-10T18:30:18.618Z"
   },
   {
    "duration": 5,
    "start_time": "2024-07-10T18:32:45.336Z"
   },
   {
    "duration": 5,
    "start_time": "2024-07-10T18:39:30.644Z"
   },
   {
    "duration": 6,
    "start_time": "2024-07-10T18:46:58.558Z"
   },
   {
    "duration": 27,
    "start_time": "2024-07-10T18:48:10.677Z"
   },
   {
    "duration": 9,
    "start_time": "2024-07-10T18:51:01.538Z"
   },
   {
    "duration": 6,
    "start_time": "2024-07-10T18:52:19.611Z"
   },
   {
    "duration": 25,
    "start_time": "2024-07-10T18:53:47.930Z"
   },
   {
    "duration": 6,
    "start_time": "2024-07-10T18:54:19.368Z"
   },
   {
    "duration": 6,
    "start_time": "2024-07-10T18:54:27.024Z"
   },
   {
    "duration": 23,
    "start_time": "2024-07-10T18:55:14.699Z"
   },
   {
    "duration": 23,
    "start_time": "2024-07-10T20:04:25.767Z"
   },
   {
    "duration": 31,
    "start_time": "2024-07-10T20:04:58.399Z"
   },
   {
    "duration": 7,
    "start_time": "2024-07-10T20:09:43.678Z"
   },
   {
    "duration": 5,
    "start_time": "2024-07-10T20:09:59.216Z"
   },
   {
    "duration": 11,
    "start_time": "2024-07-10T20:18:08.596Z"
   },
   {
    "duration": 9,
    "start_time": "2024-07-10T20:24:01.085Z"
   },
   {
    "duration": 29,
    "start_time": "2024-07-10T20:24:33.102Z"
   },
   {
    "duration": 27,
    "start_time": "2024-07-10T20:34:58.122Z"
   },
   {
    "duration": 26,
    "start_time": "2024-07-10T20:35:15.461Z"
   },
   {
    "duration": 27,
    "start_time": "2024-07-10T20:35:43.852Z"
   },
   {
    "duration": 27,
    "start_time": "2024-07-10T20:36:34.187Z"
   },
   {
    "duration": 6,
    "start_time": "2024-07-10T20:36:47.568Z"
   },
   {
    "duration": 12,
    "start_time": "2024-07-10T20:41:33.958Z"
   },
   {
    "duration": 38,
    "start_time": "2024-07-10T20:41:40.463Z"
   },
   {
    "duration": 47,
    "start_time": "2024-07-10T20:42:20.035Z"
   },
   {
    "duration": 351,
    "start_time": "2024-07-11T16:57:52.715Z"
   },
   {
    "duration": 36,
    "start_time": "2024-07-11T16:59:37.792Z"
   },
   {
    "duration": 29,
    "start_time": "2024-07-11T17:00:09.822Z"
   },
   {
    "duration": 7,
    "start_time": "2024-07-11T17:00:39.455Z"
   },
   {
    "duration": 6,
    "start_time": "2024-07-11T17:03:51.896Z"
   },
   {
    "duration": 7,
    "start_time": "2024-07-11T17:04:06.599Z"
   },
   {
    "duration": 32,
    "start_time": "2024-07-11T17:05:08.760Z"
   },
   {
    "duration": 29,
    "start_time": "2024-07-11T17:05:21.096Z"
   },
   {
    "duration": 8,
    "start_time": "2024-07-11T17:09:12.820Z"
   },
   {
    "duration": 73,
    "start_time": "2024-07-11T17:11:19.683Z"
   },
   {
    "duration": 72,
    "start_time": "2024-07-11T17:11:44.828Z"
   },
   {
    "duration": 12,
    "start_time": "2024-07-11T17:12:11.304Z"
   },
   {
    "duration": 14,
    "start_time": "2024-07-11T18:34:11.890Z"
   },
   {
    "duration": 12,
    "start_time": "2024-07-11T18:34:57.669Z"
   },
   {
    "duration": 29,
    "start_time": "2024-07-11T18:40:28.227Z"
   },
   {
    "duration": 11,
    "start_time": "2024-07-11T18:40:53.565Z"
   },
   {
    "duration": 12,
    "start_time": "2024-07-11T18:42:03.491Z"
   },
   {
    "duration": 14,
    "start_time": "2024-07-11T18:43:50.818Z"
   },
   {
    "duration": 11,
    "start_time": "2024-07-11T18:44:14.728Z"
   },
   {
    "duration": 15,
    "start_time": "2024-07-11T18:46:52.618Z"
   },
   {
    "duration": 10,
    "start_time": "2024-07-11T18:46:57.575Z"
   },
   {
    "duration": 22,
    "start_time": "2024-07-11T18:47:14.124Z"
   },
   {
    "duration": 10,
    "start_time": "2024-07-11T18:47:17.053Z"
   },
   {
    "duration": 9,
    "start_time": "2024-07-11T18:47:54.293Z"
   },
   {
    "duration": 10,
    "start_time": "2024-07-11T18:48:06.884Z"
   },
   {
    "duration": 12,
    "start_time": "2024-07-11T18:57:08.529Z"
   },
   {
    "duration": 9,
    "start_time": "2024-07-11T18:57:21.390Z"
   },
   {
    "duration": 37,
    "start_time": "2024-07-11T18:57:46.281Z"
   },
   {
    "duration": 11,
    "start_time": "2024-07-11T18:58:59.073Z"
   },
   {
    "duration": 50,
    "start_time": "2024-07-11T19:46:43.727Z"
   },
   {
    "duration": 11,
    "start_time": "2024-07-11T19:47:13.553Z"
   },
   {
    "duration": 14,
    "start_time": "2024-07-11T19:48:20.468Z"
   },
   {
    "duration": 11,
    "start_time": "2024-07-11T19:55:37.971Z"
   },
   {
    "duration": 37,
    "start_time": "2024-07-11T19:55:45.600Z"
   },
   {
    "duration": 11,
    "start_time": "2024-07-11T19:55:54.482Z"
   },
   {
    "duration": 11,
    "start_time": "2024-07-11T19:56:10.459Z"
   },
   {
    "duration": 13,
    "start_time": "2024-07-11T19:57:57.599Z"
   },
   {
    "duration": 12,
    "start_time": "2024-07-11T19:58:11.988Z"
   },
   {
    "duration": 39,
    "start_time": "2024-07-11T20:10:07.096Z"
   },
   {
    "duration": 11,
    "start_time": "2024-07-11T20:10:31.509Z"
   }
  ],
  "colab": {
   "provenance": []
  },
  "kernelspec": {
   "display_name": "Bootcamp",
   "language": "python",
   "name": "python3"
  },
  "language_info": {
   "codemirror_mode": {
    "name": "ipython",
    "version": 3
   },
   "file_extension": ".py",
   "mimetype": "text/x-python",
   "name": "python",
   "nbconvert_exporter": "python",
   "pygments_lexer": "ipython3",
   "version": "3.10.14"
  },
  "toc": {
   "base_numbering": 1,
   "nav_menu": {},
   "number_sections": true,
   "sideBar": true,
   "skip_h1_title": true,
   "title_cell": "Table of Contents",
   "title_sidebar": "Contents",
   "toc_cell": false,
   "toc_position": {},
   "toc_section_display": true,
   "toc_window_display": false
  }
 },
 "nbformat": 4,
 "nbformat_minor": 1
}
